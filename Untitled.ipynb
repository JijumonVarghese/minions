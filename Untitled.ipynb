{
 "cells": [
  {
   "cell_type": "code",
   "execution_count": null,
   "metadata": {},
   "outputs": [],
   "source": []
  },
  {
   "cell_type": "code",
   "execution_count": 1,
   "metadata": {},
   "outputs": [
    {
     "name": "stdout",
     "output_type": "stream",
     "text": [
      " Volume in drive C is OS\n",
      " Volume Serial Number is 20FC-6757\n",
      "\n",
      " Directory of C:\\GIT\\minions\n",
      "\n",
      "07-05-2020  14:23    <DIR>          .\n",
      "07-05-2020  14:23    <DIR>          ..\n",
      "07-05-2020  14:23    <DIR>          .idea\n",
      "05-03-2020  11:21    <DIR>          .ipynb_checkpoints\n",
      "11-03-2020  15:34             3,278 IntelligentProcessor.py\n",
      "09-03-2020  13:08               467 logging.conf\n",
      "09-03-2020  15:44               329 log_tester.py\n",
      "07-05-2020  14:23             2,575 main.py\n",
      "03-03-2020  16:37                14 README.md\n",
      "07-05-2020  14:23               329 run_testpy.py\n",
      "05-03-2020  11:26                 0 sampletest.py\n",
      "05-03-2020  12:21             3,852 Untitled.ipynb\n",
      "27-04-2020  15:52    <DIR>          vcst\n",
      "05-03-2020  11:38    <DIR>          venv\n",
      "11-03-2020  15:47    <DIR>          __pycache__\n",
      "               8 File(s)         10,844 bytes\n",
      "               7 Dir(s)  528,041,242,624 bytes free\n"
     ]
    }
   ],
   "source": [
    "!dir"
   ]
  },
  {
   "cell_type": "code",
   "execution_count": 2,
   "metadata": {},
   "outputs": [],
   "source": [
    "!cd vcst\\sample\\test\\"
   ]
  },
  {
   "cell_type": "code",
   "execution_count": 3,
   "metadata": {},
   "outputs": [
    {
     "name": "stdout",
     "output_type": "stream",
     "text": [
      " Volume in drive C is OS\n",
      " Volume Serial Number is 20FC-6757\n",
      "\n",
      " Directory of C:\\GIT\\minions\n",
      "\n",
      "07-05-2020  14:23    <DIR>          .\n",
      "07-05-2020  14:23    <DIR>          ..\n",
      "07-05-2020  14:23    <DIR>          .idea\n",
      "05-03-2020  11:21    <DIR>          .ipynb_checkpoints\n",
      "11-03-2020  15:34             3,278 IntelligentProcessor.py\n",
      "09-03-2020  13:08               467 logging.conf\n",
      "09-03-2020  15:44               329 log_tester.py\n",
      "07-05-2020  14:23             2,575 main.py\n",
      "03-03-2020  16:37                14 README.md\n",
      "07-05-2020  14:23               329 run_testpy.py\n",
      "05-03-2020  11:26                 0 sampletest.py\n",
      "05-03-2020  12:21             3,852 Untitled.ipynb\n",
      "27-04-2020  15:52    <DIR>          vcst\n",
      "05-03-2020  11:38    <DIR>          venv\n",
      "11-03-2020  15:47    <DIR>          __pycache__\n",
      "               8 File(s)         10,844 bytes\n",
      "               7 Dir(s)  528,040,210,432 bytes free\n"
     ]
    }
   ],
   "source": [
    "!dir"
   ]
  },
  {
   "cell_type": "code",
   "execution_count": 10,
   "metadata": {},
   "outputs": [
    {
     "ename": "PermissionError",
     "evalue": "[Errno 13] Permission denied: 'vcst/rest/vcenter/login_logout.py'",
     "output_type": "error",
     "traceback": [
      "\u001b[1;31m---------------------------------------------------------------------------\u001b[0m",
      "\u001b[1;31mPermissionError\u001b[0m                           Traceback (most recent call last)",
      "\u001b[1;32m<ipython-input-10-57ee601f2940>\u001b[0m in \u001b[0;36m<module>\u001b[1;34m\u001b[0m\n\u001b[0;32m     14\u001b[0m \u001b[0mm\u001b[0m \u001b[1;33m=\u001b[0m \u001b[0mminion\u001b[0m\u001b[1;33m(\u001b[0m\u001b[1;34m'vcst.rest.vcenter.login_logout'\u001b[0m\u001b[1;33m,\u001b[0m\u001b[1;32mFalse\u001b[0m\u001b[1;33m)\u001b[0m\u001b[1;33m\u001b[0m\u001b[1;33m\u001b[0m\u001b[0m\n\u001b[0;32m     15\u001b[0m \u001b[1;33m\u001b[0m\u001b[0m\n\u001b[1;32m---> 16\u001b[1;33m \u001b[0mm\u001b[0m\u001b[1;33m.\u001b[0m\u001b[0mpreprocessTestFile\u001b[0m\u001b[1;33m(\u001b[0m\u001b[1;33m)\u001b[0m\u001b[1;33m\u001b[0m\u001b[1;33m\u001b[0m\u001b[0m\n\u001b[0m\u001b[0;32m     17\u001b[0m \u001b[1;31m#m.initializeTestObj()\u001b[0m\u001b[1;33m\u001b[0m\u001b[1;33m\u001b[0m\u001b[1;33m\u001b[0m\u001b[0m\n\u001b[0;32m     18\u001b[0m \u001b[1;31m#m.testMe(iterations, 2)\u001b[0m\u001b[1;33m\u001b[0m\u001b[1;33m\u001b[0m\u001b[1;33m\u001b[0m\u001b[0m\n",
      "\u001b[1;32mC:\\GIT\\minions\\main.py\u001b[0m in \u001b[0;36mpreprocessTestFile\u001b[1;34m(self)\u001b[0m\n\u001b[0;32m     24\u001b[0m         \u001b[0mdestFile\u001b[0m \u001b[1;33m=\u001b[0m \u001b[0mself\u001b[0m\u001b[1;33m.\u001b[0m\u001b[0mnewtestfilepath\u001b[0m\u001b[1;33m.\u001b[0m\u001b[0mreplace\u001b[0m\u001b[1;33m(\u001b[0m\u001b[1;34m'.'\u001b[0m\u001b[1;33m,\u001b[0m \u001b[1;34m'/'\u001b[0m\u001b[1;33m)\u001b[0m \u001b[1;33m+\u001b[0m \u001b[1;34m'.py'\u001b[0m\u001b[1;33m\u001b[0m\u001b[1;33m\u001b[0m\u001b[0m\n\u001b[0;32m     25\u001b[0m         \u001b[0mmyprocessor\u001b[0m \u001b[1;33m=\u001b[0m \u001b[0mIP\u001b[0m\u001b[1;33m(\u001b[0m\u001b[0msrcFile\u001b[0m\u001b[1;33m,\u001b[0m\u001b[0mdestFile\u001b[0m\u001b[1;33m)\u001b[0m\u001b[1;33m\u001b[0m\u001b[1;33m\u001b[0m\u001b[0m\n\u001b[1;32m---> 26\u001b[1;33m         \u001b[0mmyprocessor\u001b[0m\u001b[1;33m.\u001b[0m\u001b[0mprocessContents\u001b[0m\u001b[1;33m(\u001b[0m\u001b[1;33m)\u001b[0m\u001b[1;33m\u001b[0m\u001b[1;33m\u001b[0m\u001b[0m\n\u001b[0m\u001b[0;32m     27\u001b[0m         \u001b[0mself\u001b[0m\u001b[1;33m.\u001b[0m\u001b[0mlogger\u001b[0m\u001b[1;33m.\u001b[0m\u001b[0minfo\u001b[0m\u001b[1;33m(\u001b[0m\u001b[1;34m'Processed: '\u001b[0m\u001b[1;33m+\u001b[0m\u001b[0mself\u001b[0m\u001b[1;33m.\u001b[0m\u001b[0mtestfilepath\u001b[0m\u001b[1;33m)\u001b[0m\u001b[1;33m\u001b[0m\u001b[1;33m\u001b[0m\u001b[0m\n\u001b[0;32m     28\u001b[0m \u001b[1;33m\u001b[0m\u001b[0m\n",
      "\u001b[1;32mC:\\GIT\\minions\\IntelligentProcessor.py\u001b[0m in \u001b[0;36mprocessContents\u001b[1;34m(self)\u001b[0m\n\u001b[0;32m     95\u001b[0m                 \u001b[0mmynewcontent\u001b[0m \u001b[1;33m=\u001b[0m \u001b[0mmynewcontent\u001b[0m \u001b[1;33m+\u001b[0m\u001b[1;34m\"\\n\"\u001b[0m\u001b[1;33m+\u001b[0m \u001b[0mline\u001b[0m\u001b[1;33m\u001b[0m\u001b[1;33m\u001b[0m\u001b[0m\n\u001b[0;32m     96\u001b[0m \u001b[1;33m\u001b[0m\u001b[0m\n\u001b[1;32m---> 97\u001b[1;33m             \u001b[0mprint\u001b[0m\u001b[1;33m(\u001b[0m\u001b[0mmynewcontent\u001b[0m\u001b[1;33m)\u001b[0m\u001b[1;33m\u001b[0m\u001b[1;33m\u001b[0m\u001b[0m\n\u001b[0m\u001b[0;32m     98\u001b[0m             \u001b[1;31m#with open(self.destPath,'w') as fp:\u001b[0m\u001b[1;33m\u001b[0m\u001b[1;33m\u001b[0m\u001b[1;33m\u001b[0m\u001b[0m\n\u001b[0;32m     99\u001b[0m              \u001b[1;31m#   fp.write(mynewcontent)\u001b[0m\u001b[1;33m\u001b[0m\u001b[1;33m\u001b[0m\u001b[1;33m\u001b[0m\u001b[0m\n",
      "\u001b[1;31mPermissionError\u001b[0m: [Errno 13] Permission denied: 'vcst/rest/vcenter/login_logout.py'"
     ]
    }
   ],
   "source": [
    "from main import minion\n",
    "import os\n",
    "\n",
    "\n",
    "os.environ[\"vc\"]=\"h2-vc-ldu22.stls.local\"\n",
    "\n",
    "\n",
    "try:\n",
    "    iterations = int(os.getenv(\"iterations\"))\n",
    "except Exception as e:\n",
    "    iterations=1\n",
    "#m = minion('vcst.sample.test.test')\n",
    "#m = minion('vcst.sample.vm.vmotion')\n",
    "m = minion('vcst.rest.vcenter.login_logout',False)\n",
    "\n",
    "m.preprocessTestFile()\n",
    "#m.initializeTestObj()\n",
    "#m.testMe(iterations, 2)"
   ]
  },
  {
   "cell_type": "code",
   "execution_count": null,
   "metadata": {},
   "outputs": [],
   "source": []
  }
 ],
 "metadata": {
  "kernelspec": {
   "display_name": "Python 3",
   "language": "python",
   "name": "python3"
  },
  "language_info": {
   "codemirror_mode": {
    "name": "ipython",
    "version": 3
   },
   "file_extension": ".py",
   "mimetype": "text/x-python",
   "name": "python",
   "nbconvert_exporter": "python",
   "pygments_lexer": "ipython3",
   "version": "3.7.1"
  }
 },
 "nbformat": 4,
 "nbformat_minor": 2
}
