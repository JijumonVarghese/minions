{
 "cells": [
  {
   "cell_type": "code",
   "execution_count": 13,
   "metadata": {},
   "outputs": [
    {
     "ename": "ImportError",
     "evalue": "cannot import name 'Test' from 'vcst.sample.test.test' (C:\\GIT\\minions\\vcst\\sample\\test\\test.py)",
     "output_type": "error",
     "traceback": [
      "\u001b[1;31m---------------------------------------------------------------------------\u001b[0m",
      "\u001b[1;31mImportError\u001b[0m                               Traceback (most recent call last)",
      "\u001b[1;32m<ipython-input-13-f9a4669fc9f1>\u001b[0m in \u001b[0;36m<module>\u001b[1;34m\u001b[0m\n\u001b[1;32m----> 1\u001b[1;33m \u001b[1;32mfrom\u001b[0m \u001b[0mvcst\u001b[0m\u001b[1;33m.\u001b[0m\u001b[0msample\u001b[0m\u001b[1;33m.\u001b[0m\u001b[0mtest\u001b[0m\u001b[1;33m.\u001b[0m\u001b[0mtest\u001b[0m \u001b[1;32mimport\u001b[0m \u001b[0mTest\u001b[0m\u001b[1;33m\u001b[0m\u001b[1;33m\u001b[0m\u001b[0m\n\u001b[0m",
      "\u001b[1;31mImportError\u001b[0m: cannot import name 'Test' from 'vcst.sample.test.test' (C:\\GIT\\minions\\vcst\\sample\\test\\test.py)"
     ]
    }
   ],
   "source": [
    "from vcst.sample.test.test import Test"
   ]
  },
  {
   "cell_type": "code",
   "execution_count": 14,
   "metadata": {},
   "outputs": [
    {
     "name": "stdout",
     "output_type": "stream",
     "text": [
      " Volume in drive C is OS\n",
      " Volume Serial Number is 20FC-6757\n",
      "\n",
      " Directory of C:\\GIT\\minions\n",
      "\n",
      "05-03-2020  12:19    <DIR>          .\n",
      "05-03-2020  12:19    <DIR>          ..\n",
      "05-03-2020  11:48    <DIR>          .idea\n",
      "05-03-2020  11:21    <DIR>          .ipynb_checkpoints\n",
      "03-03-2020  16:37                14 README.md\n",
      "05-03-2020  11:26                 0 sampletest.py\n",
      "05-03-2020  12:19             1,731 Untitled.ipynb\n",
      "05-03-2020  12:16    <DIR>          vcst\n",
      "05-03-2020  11:38    <DIR>          venv\n",
      "               3 File(s)          1,745 bytes\n",
      "               6 Dir(s)  680,334,020,608 bytes free\n"
     ]
    }
   ],
   "source": [
    "!dir"
   ]
  },
  {
   "cell_type": "code",
   "execution_count": 15,
   "metadata": {},
   "outputs": [],
   "source": [
    "!cd vcst\\sample\\test\\"
   ]
  },
  {
   "cell_type": "code",
   "execution_count": 16,
   "metadata": {},
   "outputs": [
    {
     "name": "stdout",
     "output_type": "stream",
     "text": [
      " Volume in drive C is OS\n",
      " Volume Serial Number is 20FC-6757\n",
      "\n",
      " Directory of C:\\GIT\\minions\n",
      "\n",
      "05-03-2020  12:19    <DIR>          .\n",
      "05-03-2020  12:19    <DIR>          ..\n",
      "05-03-2020  11:48    <DIR>          .idea\n",
      "05-03-2020  11:21    <DIR>          .ipynb_checkpoints\n",
      "03-03-2020  16:37                14 README.md\n",
      "05-03-2020  11:26                 0 sampletest.py\n",
      "05-03-2020  12:19             1,731 Untitled.ipynb\n",
      "05-03-2020  12:16    <DIR>          vcst\n",
      "05-03-2020  11:38    <DIR>          venv\n",
      "               3 File(s)          1,745 bytes\n",
      "               6 Dir(s)  680,334,020,608 bytes free\n"
     ]
    }
   ],
   "source": [
    "!dir"
   ]
  },
  {
   "cell_type": "code",
   "execution_count": null,
   "metadata": {},
   "outputs": [],
   "source": []
  }
 ],
 "metadata": {
  "kernelspec": {
   "display_name": "Python 3",
   "language": "python",
   "name": "python3"
  },
  "language_info": {
   "codemirror_mode": {
    "name": "ipython",
    "version": 3
   },
   "file_extension": ".py",
   "mimetype": "text/x-python",
   "name": "python",
   "nbconvert_exporter": "python",
   "pygments_lexer": "ipython3",
   "version": "3.7.1"
  }
 },
 "nbformat": 4,
 "nbformat_minor": 2
}
